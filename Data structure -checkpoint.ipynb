{
 "cells": [
  {
   "cell_type": "markdown",
   "id": "bc3f17a8",
   "metadata": {},
   "source": [
    "# Tuple \n",
    "- order collection of elements \n",
    "- enclosed in ()\n",
    "- different kinds of elements can store\n",
    "- once element store you can't changed them"
   ]
  },
  {
   "cell_type": "code",
   "execution_count": 1,
   "id": "829ba5d4",
   "metadata": {},
   "outputs": [
    {
     "data": {
      "text/plain": [
       "(1, 'python', True, 2.5)"
      ]
     },
     "execution_count": 1,
     "metadata": {},
     "output_type": "execute_result"
    }
   ],
   "source": [
    "tupl = (1, \"python\",True, 2.5)\n",
    "tupl"
   ]
  },
  {
   "cell_type": "code",
   "execution_count": 2,
   "id": "9d2cefde",
   "metadata": {},
   "outputs": [
    {
     "data": {
      "text/plain": [
       "tuple"
      ]
     },
     "execution_count": 2,
     "metadata": {},
     "output_type": "execute_result"
    }
   ],
   "source": [
    "type(tupl)"
   ]
  },
  {
   "cell_type": "markdown",
   "id": "4c962ffe",
   "metadata": {},
   "source": [
    "# indexing in tuple"
   ]
  },
  {
   "cell_type": "code",
   "execution_count": 4,
   "id": "78f969cd",
   "metadata": {},
   "outputs": [
    {
     "data": {
      "text/plain": [
       "(1, 'python', True, 2.5)"
      ]
     },
     "execution_count": 4,
     "metadata": {},
     "output_type": "execute_result"
    }
   ],
   "source": [
    "tupl[0:4]"
   ]
  },
  {
   "cell_type": "code",
   "execution_count": 6,
   "id": "26a7ec63",
   "metadata": {},
   "outputs": [
    {
     "data": {
      "text/plain": [
       "4"
      ]
     },
     "execution_count": 6,
     "metadata": {},
     "output_type": "execute_result"
    }
   ],
   "source": [
    "len(tupl)"
   ]
  },
  {
   "cell_type": "code",
   "execution_count": 8,
   "id": "c809dfde",
   "metadata": {},
   "outputs": [
    {
     "data": {
      "text/plain": [
       "(2, 'irfan', 3.5, False)"
      ]
     },
     "execution_count": 8,
     "metadata": {},
     "output_type": "execute_result"
    }
   ],
   "source": [
    "tup2 = (2, \"irfan\", 3.5, False)\n",
    "tup2"
   ]
  },
  {
   "cell_type": "code",
   "execution_count": 9,
   "id": "20bf416b",
   "metadata": {},
   "outputs": [
    {
     "data": {
      "text/plain": [
       "(1, 'python', True, 2.5, 2, 'irfan', 3.5, False)"
      ]
     },
     "execution_count": 9,
     "metadata": {},
     "output_type": "execute_result"
    }
   ],
   "source": [
    "tupl+tup2"
   ]
  },
  {
   "cell_type": "code",
   "execution_count": 12,
   "id": "47c785c5",
   "metadata": {},
   "outputs": [
    {
     "data": {
      "text/plain": [
       "(1, 'python', True, 2.5, 1, 'python', True, 2.5, 2, 'irfan', 3.5, False)"
      ]
     },
     "execution_count": 12,
     "metadata": {},
     "output_type": "execute_result"
    }
   ],
   "source": [
    "#concentation to add tuples\n",
    "tupl*2 + tup2"
   ]
  },
  {
   "cell_type": "code",
   "execution_count": 13,
   "id": "fefdea8d",
   "metadata": {},
   "outputs": [
    {
     "data": {
      "text/plain": [
       "(20, 30, 40, 50)"
      ]
     },
     "execution_count": 13,
     "metadata": {},
     "output_type": "execute_result"
    }
   ],
   "source": [
    "tup3 = (20, 30, 40 ,50)\n",
    "tup3"
   ]
  },
  {
   "cell_type": "code",
   "execution_count": 14,
   "id": "a4c1c50a",
   "metadata": {},
   "outputs": [
    {
     "data": {
      "text/plain": [
       "20"
      ]
     },
     "execution_count": 14,
     "metadata": {},
     "output_type": "execute_result"
    }
   ],
   "source": [
    "min(tup3)"
   ]
  },
  {
   "cell_type": "code",
   "execution_count": 15,
   "id": "9dd5598a",
   "metadata": {},
   "outputs": [
    {
     "data": {
      "text/plain": [
       "50"
      ]
     },
     "execution_count": 15,
     "metadata": {},
     "output_type": "execute_result"
    }
   ],
   "source": [
    "max(tup3)"
   ]
  },
  {
   "cell_type": "code",
   "execution_count": 17,
   "id": "fc4b607c",
   "metadata": {},
   "outputs": [
    {
     "data": {
      "text/plain": [
       "(20, 30, 40, 50, 20, 30, 40, 50, 20, 30, 40, 50)"
      ]
     },
     "execution_count": 17,
     "metadata": {},
     "output_type": "execute_result"
    }
   ],
   "source": [
    "tup3*3"
   ]
  },
  {
   "cell_type": "markdown",
   "id": "9463eaf8",
   "metadata": {},
   "source": [
    "# list\n",
    "- order collection of elements\n",
    "- enclosed in [] \n",
    "- changeable "
   ]
  },
  {
   "cell_type": "code",
   "execution_count": 75,
   "id": "b6e4e6b0",
   "metadata": {},
   "outputs": [
    {
     "data": {
      "text/plain": [
       "[1, 'python', False]"
      ]
     },
     "execution_count": 75,
     "metadata": {},
     "output_type": "execute_result"
    }
   ],
   "source": [
    "list1 = [1, \"python\",False]\n",
    "list1"
   ]
  },
  {
   "cell_type": "code",
   "execution_count": 76,
   "id": "86a02399",
   "metadata": {},
   "outputs": [
    {
     "data": {
      "text/plain": [
       "list"
      ]
     },
     "execution_count": 76,
     "metadata": {},
     "output_type": "execute_result"
    }
   ],
   "source": [
    "type(list1)"
   ]
  },
  {
   "cell_type": "code",
   "execution_count": 79,
   "id": "3c6c477f",
   "metadata": {},
   "outputs": [
    {
     "data": {
      "text/plain": [
       "3"
      ]
     },
     "execution_count": 79,
     "metadata": {},
     "output_type": "execute_result"
    }
   ],
   "source": [
    "len(list1)"
   ]
  },
  {
   "cell_type": "code",
   "execution_count": 80,
   "id": "1e040bbb",
   "metadata": {},
   "outputs": [
    {
     "data": {
      "text/plain": [
       "[3.5, 'irfan', 'umer', 560, False, 452]"
      ]
     },
     "execution_count": 80,
     "metadata": {},
     "output_type": "execute_result"
    }
   ],
   "source": [
    "list2 = [3.5,\"irfan\",\"umer\",560, False, 452]\n",
    "list2"
   ]
  },
  {
   "cell_type": "code",
   "execution_count": 82,
   "id": "95fcda89",
   "metadata": {
    "scrolled": true
   },
   "outputs": [
    {
     "data": {
      "text/plain": [
       "[1, 'python', False, 3.5, 'irfan', 'umer', 560, False, 452]"
      ]
     },
     "execution_count": 82,
     "metadata": {},
     "output_type": "execute_result"
    }
   ],
   "source": [
    "list1+list2"
   ]
  },
  {
   "cell_type": "code",
   "execution_count": 87,
   "id": "528c5f4e",
   "metadata": {},
   "outputs": [
    {
     "data": {
      "text/plain": [
       "[1, 'python', False]"
      ]
     },
     "execution_count": 87,
     "metadata": {},
     "output_type": "execute_result"
    }
   ],
   "source": [
    "list1.reverse()\n",
    "list1"
   ]
  },
  {
   "cell_type": "markdown",
   "id": "1254fc52",
   "metadata": {},
   "source": [
    "# dictionaries\n",
    "- unordered collection of elements\n",
    "- key and values\n",
    "- enclosed in{}\n",
    "- changeable"
   ]
  },
  {
   "cell_type": "code",
   "execution_count": 89,
   "id": "925bf592",
   "metadata": {},
   "outputs": [
    {
     "data": {
      "text/plain": [
       "{'somsa': 30, 'pakraos': 100, 'raita': 20, 'salad': 30, 'chicken roll': 30}"
      ]
     },
     "execution_count": 89,
     "metadata": {},
     "output_type": "execute_result"
    }
   ],
   "source": [
    "#food and their prices\n",
    "food1 = {\"somsa\":30, \"pakraos\":100, \"raita\":20, \"salad\":30, \"chicken roll\":30}\n",
    "food1"
   ]
  },
  {
   "cell_type": "code",
   "execution_count": 90,
   "id": "99847007",
   "metadata": {},
   "outputs": [
    {
     "data": {
      "text/plain": [
       "dict"
      ]
     },
     "execution_count": 90,
     "metadata": {},
     "output_type": "execute_result"
    }
   ],
   "source": [
    "type(food1)"
   ]
  },
  {
   "cell_type": "code",
   "execution_count": 92,
   "id": "d724553c",
   "metadata": {},
   "outputs": [
    {
     "data": {
      "text/plain": [
       "dict_keys(['somsa', 'pakraos', 'raita', 'salad', 'chicken roll'])"
      ]
     },
     "execution_count": 92,
     "metadata": {},
     "output_type": "execute_result"
    }
   ],
   "source": [
    "#extract data\n",
    "keys1 = food1.keys()\n",
    "keys1"
   ]
  },
  {
   "cell_type": "code",
   "execution_count": 93,
   "id": "e1bb7258",
   "metadata": {},
   "outputs": [
    {
     "data": {
      "text/plain": [
       "dict_values([30, 100, 20, 30, 30])"
      ]
     },
     "execution_count": 93,
     "metadata": {},
     "output_type": "execute_result"
    }
   ],
   "source": [
    "values1=food1.values()\n",
    "values1"
   ]
  },
  {
   "cell_type": "code",
   "execution_count": 96,
   "id": "05424fb6",
   "metadata": {},
   "outputs": [],
   "source": [
    "food1[\"tikki\"]=10"
   ]
  },
  {
   "cell_type": "code",
   "execution_count": 97,
   "id": "57c0f95b",
   "metadata": {},
   "outputs": [
    {
     "data": {
      "text/plain": [
       "{'somsa': 30,\n",
       " 'pakraos': 100,\n",
       " 'raita': 20,\n",
       " 'salad': 30,\n",
       " 'chicken roll': 30,\n",
       " 'tikki': 10}"
      ]
     },
     "execution_count": 97,
     "metadata": {},
     "output_type": "execute_result"
    }
   ],
   "source": [
    "food1"
   ]
  },
  {
   "cell_type": "code",
   "execution_count": 100,
   "id": "e1491e29",
   "metadata": {},
   "outputs": [
    {
     "data": {
      "text/plain": [
       "{'somsa': 30,\n",
       " 'pakraos': 100,\n",
       " 'raita': 20,\n",
       " 'salad': 30,\n",
       " 'chicken roll': 30,\n",
       " 'tikki': 15}"
      ]
     },
     "execution_count": 100,
     "metadata": {},
     "output_type": "execute_result"
    }
   ],
   "source": [
    "food1[\"tikki\"]=15\n",
    "food1"
   ]
  },
  {
   "cell_type": "code",
   "execution_count": 101,
   "id": "61c70ec8",
   "metadata": {},
   "outputs": [
    {
     "data": {
      "text/plain": [
       "{'dates': 50, 'chocolates': 200, 'sewaaain': 1000}"
      ]
     },
     "execution_count": 101,
     "metadata": {},
     "output_type": "execute_result"
    }
   ],
   "source": [
    "food2 = {\"dates\": 50, \"chocolates\":200, \"sewaaain\":1000}\n",
    "food2"
   ]
  },
  {
   "cell_type": "code",
   "execution_count": 105,
   "id": "66b2a36c",
   "metadata": {},
   "outputs": [
    {
     "data": {
      "text/plain": [
       "{'somsa': 30,\n",
       " 'pakraos': 100,\n",
       " 'raita': 20,\n",
       " 'salad': 30,\n",
       " 'chicken roll': 30,\n",
       " 'tikki': 15,\n",
       " 'dates': 50,\n",
       " 'chocolates': 200,\n",
       " 'sewaaain': 1000}"
      ]
     },
     "execution_count": 105,
     "metadata": {},
     "output_type": "execute_result"
    }
   ],
   "source": [
    "food1.update(food2)\n",
    "food1"
   ]
  },
  {
   "cell_type": "markdown",
   "id": "bb859108",
   "metadata": {},
   "source": [
    "# sets\n",
    "- unordered and unindexed\n",
    "- enclosed {}\n",
    "- no duplicates allowed"
   ]
  },
  {
   "cell_type": "code",
   "execution_count": 106,
   "id": "9ae173da",
   "metadata": {},
   "outputs": [
    {
     "data": {
      "text/plain": [
       "{1, 2.1, 'codes', 'irfan', 'islamabad'}"
      ]
     },
     "execution_count": 106,
     "metadata": {},
     "output_type": "execute_result"
    }
   ],
   "source": [
    "s1 = {1,2.1, \"irfan\", \"islamabad\", \"codes\", True}\n",
    "s1"
   ]
  },
  {
   "cell_type": "code",
   "execution_count": 108,
   "id": "b4609f21",
   "metadata": {},
   "outputs": [
    {
     "data": {
      "text/plain": [
       "{1, 2.1, 'codes', 'hanan', 'irfan', 'islamabad'}"
      ]
     },
     "execution_count": 108,
     "metadata": {},
     "output_type": "execute_result"
    }
   ],
   "source": [
    "s1.add(\"hanan\")\n",
    "s1"
   ]
  },
  {
   "cell_type": "code",
   "execution_count": 109,
   "id": "0a0d34d5",
   "metadata": {},
   "outputs": [
    {
     "data": {
      "text/plain": [
       "{1, 2.1, 'codes', 'irfan', 'islamabad'}"
      ]
     },
     "execution_count": 109,
     "metadata": {},
     "output_type": "execute_result"
    }
   ],
   "source": [
    "s1.remove(\"hanan\")\n",
    "s1"
   ]
  },
  {
   "cell_type": "code",
   "execution_count": null,
   "id": "fe414de2",
   "metadata": {},
   "outputs": [],
   "source": []
  }
 ],
 "metadata": {
  "kernelspec": {
   "display_name": "Python 3 (ipykernel)",
   "language": "python",
   "name": "python3"
  },
  "language_info": {
   "codemirror_mode": {
    "name": "ipython",
    "version": 3
   },
   "file_extension": ".py",
   "mimetype": "text/x-python",
   "name": "python",
   "nbconvert_exporter": "python",
   "pygments_lexer": "ipython3",
   "version": "3.9.12"
  }
 },
 "nbformat": 4,
 "nbformat_minor": 5
}
